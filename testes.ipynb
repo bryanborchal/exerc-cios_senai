{
 "cells": [
  {
   "cell_type": "code",
   "execution_count": null,
   "id": "82cf5628",
   "metadata": {},
   "outputs": [],
   "source": [
    "lista_de_tarefas = { \n",
    "        'Tarefas' : ['Limpar fogão', 'Lavar a louça'],\n",
    "        'Data das tarefas' : ['2/7', '2/7']\n",
    "    }\n",
    "\n",
    "def mostrar_tarefas():\n",
    "    barra = f'|{\"_\"*30}|'\n",
    "    print(barra)\n",
    "    print('| Tarefas:')\n",
    "    for i in range(len(lista_de_tarefas['Tarefas'])):\n",
    "        print(f\"{i+1}. Tarefas: {lista_de_tarefas['Tarefas'][i]} - Data: {lista_de_tarefas['Data das tarefas'][i]}\")\n",
    "    print(barra)\n",
    "\n",
    "def adicionar_tarefa():\n",
    "    nome_da_tarefa = input('| Digite o nome da tarefa: ')\n",
    "    dia_da_tarefa = input('| Digite a data da tarefa: ')\n",
    "\n",
    "\n",
    "def mostrar_menu():\n",
    "    while True:\n",
    "        barra = f'|{\"_\"*30}|'\n",
    "        print(barra)\n",
    "        print('| Gerenciador de Tarefas')\n",
    "        print(barra)\n",
    "        print('| (1) Mostrar Tarefas')\n",
    "        print('| (2) Adicionar Tarefas')\n",
    "        print('| (3) Remover Tarefas')\n",
    "        print('| (4) Sair')\n",
    "        print(barra)\n",
    "        \n",
    "        resposta = int(input('| Escolha uma Opção: '))\n",
    "        if resposta == 1:\n",
    "            mostrar_tarefas()\n",
    "            input('| Pressione enter para continuar...')\n",
    "        elif resposta == 2:\n",
    "            adicionar_tarefa()\n",
    "            input('| Pressione enter para continuar')\n",
    "        elif resposta == 3:\n",
    "            print('Teste')"
   ]
  }
 ],
 "metadata": {
  "kernelspec": {
   "display_name": "Python 3",
   "language": "python",
   "name": "python3"
  },
  "language_info": {
   "codemirror_mode": {
    "name": "ipython",
    "version": 3
   },
   "file_extension": ".py",
   "mimetype": "text/x-python",
   "name": "python",
   "nbconvert_exporter": "python",
   "pygments_lexer": "ipython3",
   "version": "3.13.2"
  }
 },
 "nbformat": 4,
 "nbformat_minor": 5
}
